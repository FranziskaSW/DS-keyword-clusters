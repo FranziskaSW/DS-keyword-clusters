{
  "nbformat": 4,
  "nbformat_minor": 0,
  "metadata": {
    "colab": {
      "name": "1_Introduction.ipynb",
      "provenance": [],
      "collapsed_sections": [],
      "include_colab_link": true
    },
    "kernelspec": {
      "name": "python3",
      "display_name": "Python 3"
    }
  },
  "cells": [
    {
      "cell_type": "markdown",
      "metadata": {
        "id": "view-in-github",
        "colab_type": "text"
      },
      "source": [
        "<a href=\"https://colab.research.google.com/github/FranziskaSW/DS-keyword-clusters/blob/master/1_Introduction.ipynb\" target=\"_parent\"><img src=\"https://colab.research.google.com/assets/colab-badge.svg\" alt=\"Open In Colab\"/></a>"
      ]
    },
    {
      "cell_type": "markdown",
      "metadata": {
        "id": "FKG1WlN5Cj9S",
        "colab_type": "text"
      },
      "source": [
        " <p align=\"center\">**<font  size=\"70\" >Analyzing</font>**\n",
        "<br>![alt text](https://upload.wikimedia.org/wikipedia/commons/thumb/7/77/The_New_York_Times_logo.png/800px-The_New_York_Times_logo.png)\n",
        "<br>**<font  size=\"5\" >Using data to gain insight into the newspaper's policy</font>**</p>\n",
        "\n",
        "<br> <p align=\"center\">\n",
        "**Franziska Wehrmann** | franzisk.wehrmann@mail.huji.ac.il | franziska  <br>\n",
        "**Alon Itach** | alon.itach@mail.huji.ac.il | alonit  <br>\n",
        "**Yuval Reif** | yuval.reif@mail.huji.ac.il | yuval.reif  <br>\n",
        "  </p>\n",
        "\n",
        "# Problem Description\n",
        "--------------------------\n",
        "\n",
        "When we sat down to conjure ideas for the project, Franzi shared with us David Kriesel's [Spiegel Mining](http://www.dkriesel.com/spiegelmining) talk, where he explored a database of articles that he himself scraped over several years from the German newsmagazine, Spiegel Online.\n",
        "\n",
        "We all liked the spirit of Kriesel's project, and wished to create a project in this spirit yet in the context of the course. Our main aspirations were to gain insight into a newspaper's publication policy through data mining & visualization, and to play and have fun with a huge amount of data.\n",
        "\n",
        "###The problems we chose to tackle were:\n",
        "- **Identifying stories in the sea of articles:** Finding sets of articles which are connected in some sense (either in a straight-forward way or in some deeper sense), so that they define a story.\n",
        "- **Finding trends in the newspaper's publications:** Developing tools to determine these trends so as to gain insight into the choices (conscious or unconscious) the newspaper's editors make.\n",
        "- **Analyzing the network of keywords:** Defining a network with article keywords as nodes, and edges defined by keywords' article-coappearance, and searching this network for insights about the newspaper's publication in a broad sense.\n",
        "\n",
        "\n",
        "\n",
        "# The Data\n",
        "-------------\n",
        "Since this project is about textual data, we needed a language we could all understand, so English was our only option. Of all the English news' APIs, the NYT's API was the most promising: Although containing only article metadata (and for scraping articles' content you need an online subscription), it does have some cool features:\n",
        "- Has articles from 1851 (!) to date\n",
        "- Has **rich textual metadata**, including the following for each article:\n",
        "  - Headline and the lead paragraph\n",
        "  - Tagged keywords of 4 types: people, organizations, locations, creative works & subjects\n",
        "    - Subject being anything from \"Classified Information and State Secrets\" to \"#MeToo Movement\"\n",
        "  - News desk (A general category: Politics, Culture, Sports, etc.) and section of the magazine (More specific: Soccer, Middle East, Economy) it was published in\n",
        "  - Publication date & time\n",
        "- Is free & well maintained\n",
        " \n",
        "\n"
      ]
    },
    {
      "cell_type": "markdown",
      "metadata": {
        "id": "vRKI6q4ANutb",
        "colab_type": "text"
      },
      "source": [
        "# The API\n",
        "----------------\n",
        "\n",
        "NYTimes API is a RESTful servie. For each request, a JSON with data of one month is provided. Example of one (cleaned) document is given.\n",
        "\n",
        "All in all we analyzed data **from 1990 to 2019**, with **2131065 unique documents** in a weight of **3.83 GB** as JSON format. "
      ]
    },
    {
      "cell_type": "code",
      "metadata": {
        "id": "e1wKYWLZ-hGk",
        "colab_type": "code",
        "outputId": "9bf54674-d4c8-440d-f423-d8c238b5c42f",
        "colab": {
          "base_uri": "https://localhost:8080/",
          "height": 1392
        }
      },
      "source": [
        "import json\n",
        "print(json.dumps({\"web_url\": \"https://www.nytimes.com/2018/05/03/nyregion/nyc-safe-injection-sites-heroin.html\", \"snippet\": \"Though no injection sites exist yet in the United States, the endorsement of the strategy by New York may give the movement behind it special impetus.\", \"print_page\": \"1\", \"blog\": [], \"source\": \"The New York Times\", \"headline\": {\"main\": \"De Blasio Moves to Bring Safe Injection Sites to New York City\", \"kicker\": None, \"content_kicker\": None, \"print_headline\": \"To Curb Overdoses, New York Plans to Try Safe Injection Sites\", \"name\": None, \"seo\": None, \"sub\": None}, \"keywords\": [{\"name\": \"persons\", \"value\": \"de Blasio, Bill\", \"rank\": 1, \"major\": \"N\"}, {\"name\": \"glocations\", \"value\": \"New York City\", \"rank\": 2, \"major\": \"N\"}, {\"name\": \"subject\", \"value\": \"Drug Abuse and Traffic\", \"rank\": 3, \"major\": \"N\"}, {\"name\": \"subject\", \"value\": \"Heroin\", \"rank\": 4, \"major\": \"N\"}, {\"name\": \"subject\", \"value\": \"Opioids and Opiates\", \"rank\": 5, \"major\": \"N\"}, {\"name\": \"subject\", \"value\": \"Hypodermic Needles and Syringes\", \"rank\": 6, \"major\": \"N\"}], \"pub_date\": \"2018-05-03T21:00:11+0000\", \"document_type\": \"article\", \"news_desk\": \"Metro\", \"byline\": {\"original\": \"By WILLIAM NEUMAN\", \"person\": [{\"firstname\": \"William\", \"middlename\": None, \"lastname\": \"NEUMAN\", \"qualifier\": None, \"title\": None, \"role\": \"reported\", \"organization\": \"\", \"rank\": 1}], \"organization\": None}, \"type_of_material\": \"News\", \"_id\": \"5aeb785d47de81a9012268e6\", \"word_count\": 1204, \"score\": 1, \"uri\": \"nyt://article/efa4a550-e283-558f-b135-ebe6222ba3cc\"}, indent=2))\n"
      ],
      "execution_count": 0,
      "outputs": [
        {
          "output_type": "stream",
          "text": [
            "{\n",
            "  \"web_url\": \"https://www.nytimes.com/2018/05/03/nyregion/nyc-safe-injection-sites-heroin.html\",\n",
            "  \"snippet\": \"Though no injection sites exist yet in the United States, the endorsement of the strategy by New York may give the movement behind it special impetus.\",\n",
            "  \"print_page\": \"1\",\n",
            "  \"blog\": [],\n",
            "  \"source\": \"The New York Times\",\n",
            "  \"headline\": {\n",
            "    \"main\": \"De Blasio Moves to Bring Safe Injection Sites to New York City\",\n",
            "    \"kicker\": null,\n",
            "    \"content_kicker\": null,\n",
            "    \"print_headline\": \"To Curb Overdoses, New York Plans to Try Safe Injection Sites\",\n",
            "    \"name\": null,\n",
            "    \"seo\": null,\n",
            "    \"sub\": null\n",
            "  },\n",
            "  \"keywords\": [\n",
            "    {\n",
            "      \"name\": \"persons\",\n",
            "      \"value\": \"de Blasio, Bill\",\n",
            "      \"rank\": 1,\n",
            "      \"major\": \"N\"\n",
            "    },\n",
            "    {\n",
            "      \"name\": \"glocations\",\n",
            "      \"value\": \"New York City\",\n",
            "      \"rank\": 2,\n",
            "      \"major\": \"N\"\n",
            "    },\n",
            "    {\n",
            "      \"name\": \"subject\",\n",
            "      \"value\": \"Drug Abuse and Traffic\",\n",
            "      \"rank\": 3,\n",
            "      \"major\": \"N\"\n",
            "    },\n",
            "    {\n",
            "      \"name\": \"subject\",\n",
            "      \"value\": \"Heroin\",\n",
            "      \"rank\": 4,\n",
            "      \"major\": \"N\"\n",
            "    },\n",
            "    {\n",
            "      \"name\": \"subject\",\n",
            "      \"value\": \"Opioids and Opiates\",\n",
            "      \"rank\": 5,\n",
            "      \"major\": \"N\"\n",
            "    },\n",
            "    {\n",
            "      \"name\": \"subject\",\n",
            "      \"value\": \"Hypodermic Needles and Syringes\",\n",
            "      \"rank\": 6,\n",
            "      \"major\": \"N\"\n",
            "    }\n",
            "  ],\n",
            "  \"pub_date\": \"2018-05-03T21:00:11+0000\",\n",
            "  \"document_type\": \"article\",\n",
            "  \"news_desk\": \"Metro\",\n",
            "  \"byline\": {\n",
            "    \"original\": \"By WILLIAM NEUMAN\",\n",
            "    \"person\": [\n",
            "      {\n",
            "        \"firstname\": \"William\",\n",
            "        \"middlename\": null,\n",
            "        \"lastname\": \"NEUMAN\",\n",
            "        \"qualifier\": null,\n",
            "        \"title\": null,\n",
            "        \"role\": \"reported\",\n",
            "        \"organization\": \"\",\n",
            "        \"rank\": 1\n",
            "      }\n",
            "    ],\n",
            "    \"organization\": null\n",
            "  },\n",
            "  \"type_of_material\": \"News\",\n",
            "  \"_id\": \"5aeb785d47de81a9012268e6\",\n",
            "  \"word_count\": 1204,\n",
            "  \"score\": 1,\n",
            "  \"uri\": \"nyt://article/efa4a550-e283-558f-b135-ebe6222ba3cc\"\n",
            "}\n"
          ],
          "name": "stdout"
        }
      ]
    },
    {
      "cell_type": "code",
      "metadata": {
        "id": "H9QPBVfaVv0p",
        "colab_type": "code",
        "colab": {}
      },
      "source": [
        ""
      ],
      "execution_count": 0,
      "outputs": []
    }
  ]
}