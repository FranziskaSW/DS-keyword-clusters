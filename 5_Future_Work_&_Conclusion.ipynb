{
  "nbformat": 4,
  "nbformat_minor": 0,
  "metadata": {
    "colab": {
      "name": "5_Future_Work_&_Conclusion.ipynb",
      "provenance": [],
      "collapsed_sections": [],
      "include_colab_link": true
    },
    "kernelspec": {
      "name": "python3",
      "display_name": "Python 3"
    }
  },
  "cells": [
    {
      "cell_type": "markdown",
      "metadata": {
        "id": "view-in-github",
        "colab_type": "text"
      },
      "source": [
        "<a href=\"https://colab.research.google.com/github/FranziskaSW/DS-keyword-clusters/blob/master/5_Future_Work_%26_Conclusion.ipynb\" target=\"_parent\"><img src=\"https://colab.research.google.com/assets/colab-badge.svg\" alt=\"Open In Colab\"/></a>"
      ]
    },
    {
      "cell_type": "markdown",
      "metadata": {
        "id": "JF5a7nZVCj70",
        "colab_type": "text"
      },
      "source": [
        "# Future Work\n",
        "###  Mining For Stories With Topic Modeling\n",
        "After we experienced the relative success of topic modeling in the second section, it would be nice to revisit the first section and try to use topic modeling to find stories in the NYT. It would be interesting to see the effect of the n_topics parameter on the stories found, and testing which topic model will be the best for the task (for example, we could devise a variant of LDA with premises that fit the \"development\" of stories). We would also need to develop automatic ways to evaluate the \"story\"-ity of the articles in each topic.\n",
        "\n",
        "### Minorities in the US (from the Trends Finding section)\n",
        "For each minority group in the US (African Americans, LGBTQ, Hispanics, Asians, Jews, Arabs, etc.) we will:\n",
        "1. Select articles related to that group from way back to date.\n",
        "2. \"Augment\" the textual data with semantic frames (using FrameNet)\n",
        "3. Perform topic modeling, looking for contexts and ways that the minority group is mentioned in the NYT.\n",
        "  - For example, African Americans are recently reported about mostly concerning police violence, riots, demonstrations or female empowerment\n",
        "  - LGBTQ are probably mentioned a lot in the context of culture and civil rights \n",
        "  - This one might actually work better with LDA because we're searching for more general & very different topics, and there would be more data\n",
        "4. Visualize the findings as a ridge plot per minority group.\n",
        "\n",
        "It would be interesting to see if the contexts that these groups are mentioned in have change over the last century and how. The semantic augmentation is supposed to find semantic generalizations of the words the NYT uses when concerning a specific minority group. It might be interesting to just count and report the most frequent semantic frames for each group.\n",
        "\n",
        "# Conclusion\n",
        "We must admit that we are not completely satisfied with the results, but we are happy that we lead a shared working process, as we feel we learned much more than we would have each on our own. We managed to work on the same data using very different tools, which \"saw\" the data on different levels, and thus lead to totally different results, and this was an interesting process in itself.\n",
        "\n",
        "'Till the next time,\n",
        "\n",
        "Franzi, Alon and Yuval"
      ]
    }
  ]
}